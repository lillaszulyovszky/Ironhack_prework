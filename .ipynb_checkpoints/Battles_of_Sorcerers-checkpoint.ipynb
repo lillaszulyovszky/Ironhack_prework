{
 "cells": [
  {
   "cell_type": "markdown",
   "id": "representative-singing",
   "metadata": {},
   "source": [
    "### Assignment A"
   ]
  },
  {
   "cell_type": "markdown",
   "id": "literary-taiwan",
   "metadata": {},
   "source": [
    "You are witnessing an epic battle between two powerful sorcerers: Gandalf and Saruman. Each sorcerer has 10 spells of variable power in their mind and they are going to throw them one after the other. The winner of the duel will be the one who wins more of those clashes between spells. Spells are represented as a list of 10 integers whose value equals the power of the spell.\n",
    "\n",
    "gandalf = [10, 11, 13, 30, 22, 11, 10, 33, 22, 22]\n",
    "saruman = [23, 66, 12, 43, 12, 10, 44, 23, 12, 17]\n",
    "\n",
    "For example:\n",
    "\n",
    "The first clash is won by Saruman: 10 against 23\n",
    "\n",
    "The second clash wins Saruman: 11 against 66\n",
    "\n",
    "You will create two variables, one for each sorcerer, where the sum of clashes won will be stored. Depending on which variable is greater at the end of the duel, you will show one of the following three results on the screen:\n",
    "Gandalf wins\n",
    "Saruman wins\n",
    "Tie\n",
    "If you have not completed the above problem, we recommend you to first work on it!\n"
   ]
  },
  {
   "cell_type": "code",
   "execution_count": 1,
   "id": "generic-journal",
   "metadata": {
    "scrolled": true
   },
   "outputs": [
    {
     "name": "stdout",
     "output_type": "stream",
     "text": [
      "Gandalf wins!\n"
     ]
    }
   ],
   "source": [
    "# Assign spell power lists to variables\n",
    "\n",
    "gandalf = [10, 11, 13, 30, 22, 11, 10, 33, 22, 22]\n",
    "saruman = [23, 66, 12, 43, 12, 10, 44, 23, 12, 17]\n",
    "\n",
    "# Assign 0 to each variable that stores the victories\n",
    "total_gandalf_wins = 0\n",
    "total_saruman_wins = 0\n",
    "\n",
    "# Execution of spell clashes\n",
    "for i in range(0, len(gandalf)):\n",
    "    if (gandalf[i] > saruman[i]):\n",
    "        total_gandalf_wins += 1\n",
    "    elif (saruman[i] > gandalf[i]):\n",
    "        total_saruman_wins += 1\n",
    "\n",
    "# We check who has won, do not forget the possibility of a draw.\n",
    "# Print the result based on the winner.\n",
    "if (total_gandalf_wins > total_saruman_wins):\n",
    "    print (\"Gandalf wins!\")\n",
    "elif (total_saruman_wins > total_gandalf_wins):\n",
    "    print (\"Saruman wins!\")\n",
    "else:\n",
    "    print (\"No winners, it is a tie.\")\n"
   ]
  },
  {
   "cell_type": "markdown",
   "id": "miniature-daniel",
   "metadata": {},
   "source": [
    "### Assignment B"
   ]
  },
  {
   "cell_type": "markdown",
   "id": "strange-george",
   "metadata": {},
   "source": [
    "\n",
    "Now we want to add some variation to the problem.\n",
    "\n",
    "Instead of the spells being in a list, they now have a name and there is a dictionary that relates that name to a power. The information is provided below:\n",
    "POWER = {\n",
    "'Fireball': 50,\n",
    "'Lightning bolt': 40,\n",
    "'Magic arrow': 10,\n",
    "'Black Tentacles': 25,\n",
    "'Contagion': 45\n",
    "}\n",
    "\n",
    "The powers of the sorcerers that they will use in the clash have been provided in the list. The duel happens in the same way as above\n",
    "\n",
    "gandalf = ['Fireball', 'Lightning bolt', 'Lightning bolt', 'Magic arrow', 'Fireball',\n",
    "'Magic arrow', 'Lightning bolt', 'Fireball', 'Fireball', 'Fireball']\n",
    "\n",
    "saruman = ['Contagion', 'Contagion', 'Black Tentacles', 'Fireball', 'Black Tentacles',\n",
    "'Lightning bolt', 'Magic arrow', 'Contagion', 'Magic arrow', 'Magic arrow']\n",
    "\n",
    "A sorcerer wins if he succeeds in winning 3 spell clashes in a row.\n",
    "Given the information above find out:\n",
    "\n",
    "Which sorcerer won the battle. Gandalf or Saruman\n",
    "\n",
    "Average of the spells in the lists. Round off your result to one decimal place\n",
    "\n",
    "Standard deviation of the spells in the lists. Round off your result to one decimal place"
   ]
  },
  {
   "cell_type": "code",
   "execution_count": 2,
   "id": "palestinian-criminal",
   "metadata": {},
   "outputs": [],
   "source": [
    "POWER = {\n",
    "'Fireball': 50,\n",
    "'Lightning bolt': 40,\n",
    "'Magic arrow': 10,\n",
    "'Black Tentacles': 25,\n",
    "'Contagion': 45\n",
    "}"
   ]
  },
  {
   "cell_type": "code",
   "execution_count": 3,
   "id": "maritime-luxury",
   "metadata": {},
   "outputs": [],
   "source": [
    "gandalf = ['Fireball', 'Lightning bolt', 'Lightning bolt', 'Magic arrow', 'Fireball',\n",
    "'Magic arrow', 'Lightning bolt', 'Fireball', 'Fireball', 'Fireball']\n",
    "\n",
    "saruman = ['Contagion', 'Contagion', 'Black Tentacles', 'Fireball', 'Black Tentacles',\n",
    "'Lightning bolt', 'Magic arrow', 'Contagion', 'Magic arrow', 'Magic arrow']\n"
   ]
  },
  {
   "cell_type": "code",
   "execution_count": null,
   "id": "vocal-emphasis",
   "metadata": {},
   "outputs": [],
   "source": [
    "# Which sorcerer won the battle. Gandalf or Saruman\n",
    "def batte():\n",
    "    # YOUR SOLUTION HERE\n",
    "    return solution1\n",
    "  \n",
    "# Average of the spells in the lists. Round off your result to one decimal place\n",
    "\n",
    "def avg_spells():\n",
    "    # YOUR SOLUTION HERE\n",
    "    return solution2\n",
    "  \n",
    "# Standard deviation of the spells in the lists. Round off your result to one decimal place\n",
    "\n",
    "def stdev_spells():\n",
    "    # YOUR SOLUTION HERE\n",
    "    return solution3"
   ]
  }
 ],
 "metadata": {
  "kernelspec": {
   "display_name": "Python 3",
   "language": "python",
   "name": "python3"
  },
  "language_info": {
   "codemirror_mode": {
    "name": "ipython",
    "version": 3
   },
   "file_extension": ".py",
   "mimetype": "text/x-python",
   "name": "python",
   "nbconvert_exporter": "python",
   "pygments_lexer": "ipython3",
   "version": "3.8.5"
  }
 },
 "nbformat": 4,
 "nbformat_minor": 5
}
