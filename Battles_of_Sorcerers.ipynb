{
 "cells": [
  {
   "cell_type": "markdown",
   "id": "representative-singing",
   "metadata": {},
   "source": [
    "### Assignment A"
   ]
  },
  {
   "cell_type": "markdown",
   "id": "literary-taiwan",
   "metadata": {},
   "source": [
    "You are witnessing an epic battle between two powerful sorcerers: Gandalf and Saruman. Each sorcerer has 10 spells of variable power in their mind and they are going to throw them one after the other. The winner of the duel will be the one who wins more of those clashes between spells. Spells are represented as a list of 10 integers whose value equals the power of the spell.\n",
    "\n",
    "gandalf = [10, 11, 13, 30, 22, 11, 10, 33, 22, 22]\n",
    "saruman = [23, 66, 12, 43, 12, 10, 44, 23, 12, 17]\n",
    "\n",
    "For example:\n",
    "\n",
    "The first clash is won by Saruman: 10 against 23\n",
    "\n",
    "The second clash wins Saruman: 11 against 66\n",
    "\n",
    "You will create two variables, one for each sorcerer, where the sum of clashes won will be stored. Depending on which variable is greater at the end of the duel, you will show one of the following three results on the screen:\n",
    "Gandalf wins\n",
    "Saruman wins\n",
    "Tie\n",
    "If you have not completed the above problem, we recommend you to first work on it!\n"
   ]
  },
  {
   "cell_type": "code",
   "execution_count": 1,
   "id": "generic-journal",
   "metadata": {
    "scrolled": true
   },
   "outputs": [
    {
     "name": "stdout",
     "output_type": "stream",
     "text": [
      "Gandalf wins!\n"
     ]
    }
   ],
   "source": [
    "# Assign spell power lists to variables\n",
    "\n",
    "gandalf = [10, 11, 13, 30, 22, 11, 10, 33, 22, 22]\n",
    "saruman = [23, 66, 12, 43, 12, 10, 44, 23, 12, 17]\n",
    "\n",
    "# Assign 0 to each variable that stores the victories\n",
    "total_gandalf_wins = 0\n",
    "total_saruman_wins = 0\n",
    "\n",
    "# Execution of spell clashes\n",
    "for i in range(0, len(gandalf)):\n",
    "    if (gandalf[i] > saruman[i]):\n",
    "        total_gandalf_wins += 1\n",
    "    elif (saruman[i] > gandalf[i]):\n",
    "        total_saruman_wins += 1\n",
    "\n",
    "# We check who has won, do not forget the possibility of a draw.\n",
    "# Print the result based on the winner.\n",
    "if (total_gandalf_wins > total_saruman_wins):\n",
    "    print (\"Gandalf wins!\")\n",
    "elif (total_saruman_wins > total_gandalf_wins):\n",
    "    print (\"Saruman wins!\")\n",
    "else:\n",
    "    print (\"No winners, it is a tie.\")\n"
   ]
  },
  {
   "cell_type": "markdown",
   "id": "miniature-daniel",
   "metadata": {},
   "source": [
    "### Assignment B"
   ]
  },
  {
   "cell_type": "markdown",
   "id": "strange-george",
   "metadata": {},
   "source": [
    "\n",
    "Now we want to add some variation to the problem.\n",
    "\n",
    "Instead of the spells being in a list, they now have a name and there is a dictionary that relates that name to a power. The information is provided below:\n",
    "POWER = {\n",
    "'Fireball': 50,\n",
    "'Lightning bolt': 40,\n",
    "'Magic arrow': 10,\n",
    "'Black Tentacles': 25,\n",
    "'Contagion': 45\n",
    "}\n",
    "\n",
    "The powers of the sorcerers that they will use in the clash have been provided in the list. The duel happens in the same way as above\n",
    "\n",
    "gandalf = ['Fireball', 'Lightning bolt', 'Lightning bolt', 'Magic arrow', 'Fireball',\n",
    "'Magic arrow', 'Lightning bolt', 'Fireball', 'Fireball', 'Fireball']\n",
    "\n",
    "saruman = ['Contagion', 'Contagion', 'Black Tentacles', 'Fireball', 'Black Tentacles',\n",
    "'Lightning bolt', 'Magic arrow', 'Contagion', 'Magic arrow', 'Magic arrow']\n",
    "\n",
    "A sorcerer wins if he succeeds in winning 3 spell clashes in a row.\n",
    "Given the information above find out:\n",
    "\n",
    "Which sorcerer won the battle. Gandalf or Saruman\n",
    "\n",
    "Average of the spells in the lists. Round off your result to one decimal place\n",
    "\n",
    "Standard deviation of the spells in the lists. Round off your result to one decimal place"
   ]
  },
  {
   "cell_type": "code",
   "execution_count": 2,
   "id": "palestinian-criminal",
   "metadata": {},
   "outputs": [],
   "source": [
    "POWER = {\n",
    "'Fireball': 50,\n",
    "'Lightning bolt': 40,\n",
    "'Magic arrow': 10,\n",
    "'Black Tentacles': 25,\n",
    "'Contagion': 45\n",
    "}"
   ]
  },
  {
   "cell_type": "code",
   "execution_count": 3,
   "id": "maritime-luxury",
   "metadata": {},
   "outputs": [],
   "source": [
    "gandalf = ['Fireball', 'Lightning bolt', 'Lightning bolt', 'Magic arrow', 'Fireball',\n",
    "'Magic arrow', 'Lightning bolt', 'Fireball', 'Fireball', 'Fireball']\n",
    "\n",
    "saruman = ['Contagion', 'Contagion', 'Black Tentacles', 'Fireball', 'Black Tentacles',\n",
    "'Lightning bolt', 'Magic arrow', 'Contagion', 'Magic arrow', 'Magic arrow']\n"
   ]
  },
  {
   "cell_type": "code",
   "execution_count": 13,
   "id": "vocal-emphasis",
   "metadata": {},
   "outputs": [],
   "source": [
    "# Which sorcerer won the battle. Gandalf or Saruman\n",
    "def battle():\n",
    "    # YOUR SOLUTION HERE\n",
    "    gandalf_streak = 0\n",
    "    saruman_streak = 0\n",
    "    for i in range(0, len(gandalf)):\n",
    "        if (POWER[gandalf[i]] > POWER[saruman[i]]):\n",
    "            gandalf_streak += 1\n",
    "            saruman_streak = 0\n",
    "        elif (POWER[saruman[i]] > POWER[gandalf[i]]):\n",
    "            gandalf_streak = 0\n",
    "            saruman_streak += 1\n",
    "            \n",
    "        if gandalf_streak >= 3:\n",
    "            return \"Gandalf wins!\"\n",
    "        if saruman_streak >= 3:\n",
    "            return \"Saruman wins!\"\n",
    "        \n",
    "    return \"No winners, it is a tie.\"\n",
    "  \n",
    "# Average of the spells in the lists. Round off your result to one decimal place\n",
    "\n",
    "def avg_spells(spells):\n",
    "    # YOUR SOLUTION HERE\n",
    "    return sum([POWER[s] for s in spells])/len(spells)\n",
    "  \n",
    "# Standard deviation of the spells in the lists. Round off your result to one decimal place\n",
    "import statistics\n",
    "def stdev_spells(spells):\n",
    "    # YOUR SOLUTION HERE\n",
    "    return statistics.stdev([POWER[s] for s in spells])"
   ]
  },
  {
   "cell_type": "code",
   "execution_count": 14,
   "id": "confident-admission",
   "metadata": {},
   "outputs": [
    {
     "name": "stdout",
     "output_type": "stream",
     "text": [
      "Gandalf wins!\n"
     ]
    }
   ],
   "source": [
    "print(battle())"
   ]
  },
  {
   "cell_type": "code",
   "execution_count": 15,
   "id": "australian-georgia",
   "metadata": {},
   "outputs": [
    {
     "name": "stdout",
     "output_type": "stream",
     "text": [
      "Gandalf spell average: 39.0\n",
      "Saruman spell average: 30.5\n"
     ]
    }
   ],
   "source": [
    "print(f\"Gandalf spell average: {avg_spells(gandalf)}\")\n",
    "print(f\"Saruman spell average: {avg_spells(saruman)}\")"
   ]
  },
  {
   "cell_type": "code",
   "execution_count": 19,
   "id": "valid-variable",
   "metadata": {},
   "outputs": [
    {
     "name": "stdout",
     "output_type": "stream",
     "text": [
      "Gandalf spell standard deviation: 16.0\n",
      "Saruman spell standard deviation: 16.4\n"
     ]
    }
   ],
   "source": [
    "print(f\"Gandalf spell standard deviation: {stdev_spells(gandalf):.1f}\")\n",
    "print(f\"Saruman spell standard deviation: {stdev_spells(saruman):.1f}\")"
   ]
  },
  {
   "cell_type": "code",
   "execution_count": null,
   "id": "necessary-compatibility",
   "metadata": {},
   "outputs": [],
   "source": []
  }
 ],
 "metadata": {
  "kernelspec": {
   "display_name": "Python 3",
   "language": "python",
   "name": "python3"
  },
  "language_info": {
   "codemirror_mode": {
    "name": "ipython",
    "version": 3
   },
   "file_extension": ".py",
   "mimetype": "text/x-python",
   "name": "python",
   "nbconvert_exporter": "python",
   "pygments_lexer": "ipython3",
   "version": "3.8.5"
  }
 },
 "nbformat": 4,
 "nbformat_minor": 5
}
